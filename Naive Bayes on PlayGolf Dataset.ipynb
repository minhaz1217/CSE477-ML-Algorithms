{
 "cells": [
  {
   "cell_type": "code",
   "execution_count": 8,
   "metadata": {},
   "outputs": [],
   "source": [
    "import csv\n",
    "import random\n",
    "import datetime\n",
    "allData = []\n",
    "trainingData = []\n",
    "testingData = []\n",
    "columnName = []\n",
    "SPLIT = 100 # means: out of 100, 70 will go to training and 30 will go to testing\n",
    "random.seed(datetime.datetime.now())  # to get random values for every single call\n"
   ]
  },
  {
   "cell_type": "code",
   "execution_count": 9,
   "metadata": {},
   "outputs": [],
   "source": [
    "def chance(percentage): #will generate 9 trues if percentage of success is given 90%\n",
    "    if(random.randint(0,100) < percentage):\n",
    "        return True\n",
    "    else:\n",
    "        return False"
   ]
  },
  {
   "cell_type": "code",
   "execution_count": 10,
   "metadata": {},
   "outputs": [],
   "source": [
    "def readData(storage, columnName):\n",
    "    columnName.clear()\n",
    "    storage.clear()  #clearing the storage for better reruns\n",
    "    fileName = \"playgolf.csv\"\n",
    "    indexToIgnore = [0]  # ignoring the useless columns\n",
    "    with open(fileName,encoding=\"utf8\") as csv_file:\n",
    "        csv_reader = csv.reader(csv_file, delimiter=',')\n",
    "        for i, rows in enumerate(csv_reader):\n",
    "#             if(i>5000):\n",
    "#                 break #breaking early just for quick runs\n",
    "            tempData = []\n",
    "            for j,data in enumerate(rows):\n",
    "                if j not in indexToIgnore:\n",
    "                    tempData.append(data)\n",
    "            if i>0:\n",
    "                storage.append(tempData)\n",
    "            else:\n",
    "                columnName.extend(tempData)"
   ]
  },
  {
   "cell_type": "code",
   "execution_count": 11,
   "metadata": {},
   "outputs": [
    {
     "name": "stdout",
     "output_type": "stream",
     "text": [
      "Data Description: \n",
      "All: 14\n",
      "Training: 14\n",
      "Testing: 0\n",
      "Column Names:  ['Outlook', 'Temperature', 'Humidity', 'Windy', 'Play Golf']\n"
     ]
    }
   ],
   "source": [
    "#reading all the data from the file and splitting them based on SPLIT chance\n",
    "readData(allData, columnName)\n",
    "trainingData.clear()\n",
    "testingData.clear()\n",
    "for data in allData:\n",
    "    if(chance(SPLIT)):\n",
    "        trainingData.append(data)\n",
    "    else:\n",
    "        testingData.append(data)\n",
    "\n",
    "print(\"Data Description: \\nAll: {}\\nTraining: {}\\nTesting: {}\".format(len(allData), len(trainingData), len(testingData)))\n",
    "print(\"Column Names: \", columnName)"
   ]
  },
  {
   "cell_type": "code",
   "execution_count": 12,
   "metadata": {},
   "outputs": [
    {
     "name": "stdout",
     "output_type": "stream",
     "text": [
      "('Outlook', 'Rainy', 'No') No 3 5\n",
      "('Temperature', 'Hot', 'No') No 2 5\n",
      "('Humidity', 'High', 'No') No 4 5\n",
      "('Windy', 'FALSE', 'No') No 2 5\n",
      "('Windy', 'TRUE', 'No') No 3 5\n",
      "('Outlook', 'Overcast', 'Yes') Yes 4 9\n",
      "('Temperature', 'Hot', 'Yes') Yes 2 9\n",
      "('Humidity', 'High', 'Yes') Yes 3 9\n",
      "('Windy', 'FALSE', 'Yes') Yes 6 9\n",
      "('Outlook', 'Sunny', 'Yes') Yes 3 9\n",
      "('Temperature', 'Mild', 'Yes') Yes 4 9\n",
      "('Temperature', 'Cool', 'Yes') Yes 3 9\n",
      "('Humidity', 'Normal', 'Yes') Yes 6 9\n",
      "('Outlook', 'Sunny', 'No') No 2 5\n",
      "('Temperature', 'Cool', 'No') No 1 5\n",
      "('Humidity', 'Normal', 'No') No 1 5\n",
      "('Windy', 'TRUE', 'Yes') Yes 3 9\n",
      "('Temperature', 'Mild', 'No') No 2 5\n",
      "('Outlook', 'Rainy', 'Yes') Yes 2 9\n"
     ]
    }
   ],
   "source": [
    "# training the data and storing the values in NB for testing later\n",
    "nb = dict()  #our main data storage\n",
    "allClassLabel = dict() #to store distinct set of class labels\n",
    "labelIndex = len(trainingData[0])-1 #selecting the last row as label index, the index to be ignored\n",
    "\n",
    "for rows in trainingData:\n",
    "    for i, value in enumerate(rows):\n",
    "        temp = (columnName[i], value, rows[labelIndex])  # constructing the tuple\n",
    "        if i != labelIndex:\n",
    "            if( nb.get( temp )):\n",
    "                nb[ temp ] += 1\n",
    "            else:\n",
    "                nb[ temp ] = 1\n",
    "        else:\n",
    "            if(allClassLabel.get(value)):\n",
    "                allClassLabel[value] += 1\n",
    "            else:\n",
    "                allClassLabel[value] = 1\n",
    "\n",
    "# #DEBUG                \n",
    "# for i in nb:\n",
    "#     print(i, nb[i])\n",
    "    \n",
    "    \n",
    "    \n",
    "# nb has each row as ('home_country', 'Luxembourg', 'Loss')\n",
    "'''\n",
    "we have count of (values, output)\n",
    "now we'll do count(value, output)/ count(output)\n",
    "P( x | output ) = count(x^output) / count(output)\n",
    "'''\n",
    "for row in nb:\n",
    "    # row = ('home_country', 'Scotland', 'Draw')\n",
    "#     print(nb[row], allClassLabel[row[2]] )\n",
    "    print(row, row[2], nb[row] , allClassLabel[row[2]])\n",
    "    nb[row] = nb[row]/ allClassLabel[row[2]]\n",
    "#     for j in i:\n",
    "#         print(j)\n",
    "\n",
    "# #DEBUG     \n",
    "# for j in allClassLabel:\n",
    "#     print(j, allClassLabel[j])\n",
    "\n",
    "for output in allClassLabel:\n",
    "    allClassLabel[output] = allClassLabel[output]/ len(trainingData)\n",
    "    \n",
    "    \n",
    "#print(\"Classes: \", allClassLabel)\n",
    "#print(nb)\n",
    "\n",
    "# #DEBUG     \n",
    "# for i in nb:\n",
    "#     print(i, nb[i])"
   ]
  },
  {
   "cell_type": "code",
   "execution_count": 13,
   "metadata": {},
   "outputs": [
    {
     "name": "stdout",
     "output_type": "stream",
     "text": [
      "Correct Predictions: 0, Incorrect Predictions: 0\n"
     ]
    }
   ],
   "source": [
    "def predict(datas, columnNames, rowToCheck, labels): # we are sending row without the label, and seeing what it predicts\n",
    "    #print(rowToCheck)\n",
    "#     print(columnNames)\n",
    "#     print(labels)\n",
    "    result = dict()\n",
    "    for i in labels:\n",
    "        result[i] = 1\n",
    "    #print(result)\n",
    "    \n",
    "    for i, val in enumerate(rowToCheck):\n",
    "        for j in labels:\n",
    "            #print((columnNames[i],val, j))\n",
    "            #('home_country', 'England', 'Draw') ('home_country', 'England', 'Win')\n",
    "            if datas.get((columnNames[i],val, j)):\n",
    "                result[j] *= datas[ (columnNames[i],val, j) ]\n",
    "            else:\n",
    "                result[j] = result[j] * 1.0 / allClassLabel[j] #laplace correction\n",
    "    # now result has P(x|C)\n",
    "    currMax = -10\n",
    "    res = \"\"\n",
    "    for i in result:\n",
    "        result[i] *= allClassLabel[i]\n",
    "        if(result[i] > currMax):\n",
    "            currMax = result[i]\n",
    "            res = i\n",
    "    return res\n",
    "\n",
    "correct = 0\n",
    "for row in testingData:\n",
    "    res = predict(nb, columnName, row[:-1], allClassLabel)\n",
    "    if(res == row[-1]):\n",
    "        correct += 1\n",
    "\n",
    "incorrect = len(testingData) - correct\n",
    "print(\"Correct Predictions: {}, Incorrect Predictions: {}\".format(correct, incorrect))\n",
    "# print( \"Percentage of error: {}% \".format(int(incorrect/(len(testingData))*100 )))"
   ]
  },
  {
   "cell_type": "code",
   "execution_count": 14,
   "metadata": {},
   "outputs": [
    {
     "name": "stdout",
     "output_type": "stream",
     "text": [
      "['Rainy', 'Hot', 'High', 'FALSE', 'No']\n",
      "Yes\n"
     ]
    }
   ],
   "source": [
    "print(trainingData[0])\n",
    "customInput = ['Sunny', 'Hot', 'Normal', 'FALSE'] # notice that the customInput has no class label\n",
    "output = predict(nb, columnName, customInput, allClassLabel)\n",
    "print(output)"
   ]
  }
 ],
 "metadata": {
  "kernelspec": {
   "display_name": "Python 3",
   "language": "python",
   "name": "python3"
  },
  "language_info": {
   "codemirror_mode": {
    "name": "ipython",
    "version": 3
   },
   "file_extension": ".py",
   "mimetype": "text/x-python",
   "name": "python",
   "nbconvert_exporter": "python",
   "pygments_lexer": "ipython3",
   "version": "3.7.3"
  }
 },
 "nbformat": 4,
 "nbformat_minor": 2
}
