{
 "cells": [
  {
   "cell_type": "code",
   "execution_count": 103,
   "metadata": {},
   "outputs": [],
   "source": [
    "# # today = (Sunny, Hot, Normal, False) -> output should be YES\n",
    "import csv\n",
    "import numpy as np\n",
    "\n",
    "data = [] #to store the data(without the column that contains the class) after reading\n",
    "target = [] # contains the class column\n",
    "featureName = [] # the name of the columns, to use in different situations\n",
    "targetName = [] # the unique values of classlabels\n",
    "className = [] # name of the class\n"
   ]
  },
  {
   "cell_type": "code",
   "execution_count": 104,
   "metadata": {},
   "outputs": [],
   "source": [
    "def readData( ):\n",
    "    \n",
    "    FILENAME = \"playgolf.csv\"\n",
    "    COLUMNSTOIGNORE = [0]  # ignoring the useless columns, these columns will not be read\n",
    "    NULLVALUEINDICATOR = [ -100000, \"?\"]\n",
    "    \n",
    "    global data, target, featureName, targetName, className\n",
    "    tx = []\n",
    "    ty = []\n",
    "    labels = []\n",
    "    columnName = []\n",
    "    with open(FILENAME,encoding=\"utf8\") as csv_file:\n",
    "        csv_reader = csv.reader(csv_file, delimiter=',')\n",
    "        for i, rows in enumerate(csv_reader):\n",
    "#             if(i>5000):\n",
    "#                 break #breaking early just for quick runs\n",
    "            tempData = []\n",
    "            for j,data in enumerate(rows): #reading every column info from a row and ignoring the unnecessary columns\n",
    "                if j not in COLUMNSTOIGNORE:\n",
    "                    tempData.append(data)\n",
    "            nullvalueFound = 0\n",
    "            for j in NULLVALUEINDICATOR:\n",
    "                if(j in tempData):\n",
    "                    nullvalueFound = 1\n",
    "                    break\n",
    "            if(nullvalueFound):\n",
    "                continue\n",
    "            if i>0: #0 th row should be the name row\n",
    "                datas = tempData[:-1]  #last column is the label column so seperating those\n",
    "                label = (tempData[-1:]) #taking just he labels\n",
    "                #print(datas, label)\n",
    "                tx.append(datas)\n",
    "                ty.append(label)\n",
    "            else:\n",
    "                columnName.extend(tempData) #copying array\n",
    "    data = tx\n",
    "    target = ty\n",
    "    mytemp = np.array(target)\n",
    "    #print(np.unique(target).tolist())\n",
    "    targetName = np.unique(target).tolist()\n",
    "    featureName = columnName[:-1]\n",
    "    className = columnName[-1:]\n",
    "    print(className)"
   ]
  },
  {
   "cell_type": "code",
   "execution_count": 105,
   "metadata": {},
   "outputs": [
    {
     "name": "stdout",
     "output_type": "stream",
     "text": [
      "['Play Golf']\n"
     ]
    }
   ],
   "source": [
    "readData()\n",
    "\n",
    "# print(\"Data In Order: \")\n",
    "# print(\"Target names: \")\n",
    "# print(targetName)\n",
    "# print(\"Features\")\n",
    "# print(featureName)\n",
    "# print(\"Data\")\n",
    "# print(data)\n",
    "# print(\"Targets\")\n",
    "# print(target)"
   ]
  },
  {
   "cell_type": "code",
   "execution_count": 106,
   "metadata": {},
   "outputs": [
    {
     "data": {
      "text/plain": [
       "OneHotEncoder(categorical_features=None, categories=None, drop=None,\n",
       "              dtype=<class 'numpy.float64'>, handle_unknown='error',\n",
       "              n_values=None, sparse=True)"
      ]
     },
     "execution_count": 106,
     "metadata": {},
     "output_type": "execute_result"
    }
   ],
   "source": [
    "# changing categorical data to one hot\n",
    "'''\n",
    "Training the encoder here on all the data read from the file because \n",
    "if we train the encoder from only the traning dataset then when testing,\n",
    "the encoder thus the model might face unknown valus that don't have any \n",
    "one hot value.\n",
    "Like in testingdata there might be a column named Ghana but there is no\n",
    "value named Ghana in training dataset. so the encoder/model won't know any value for Ghana\n",
    "'''\n",
    "from sklearn import preprocessing\n",
    "\n",
    "dataEncoder = preprocessing.OneHotEncoder()\n",
    "dataEncoder.fit(data)  #training the encoder\n",
    "\n",
    "targetEncoder = preprocessing.OneHotEncoder()\n",
    "targetEncoder.fit(target)\n",
    "\n",
    "\n",
    "#generating combined feature name from the one hot conversion\n",
    "\n",
    "# onehotFeatureNames = []\n",
    "# for i, val in enumerate(dataEncoder.categories_):\n",
    "# #     print(featureName[i])\n",
    "#     for j in val:\n",
    "#         onehotFeatureNames.append(\"{}:{}\".format(featureName[i],j))\n",
    "# print(onehotFeatureNames)"
   ]
  },
  {
   "cell_type": "code",
   "execution_count": 107,
   "metadata": {},
   "outputs": [
    {
     "name": "stdout",
     "output_type": "stream",
     "text": [
      "Training Data Size:  10 Testing Data Size:  4\n"
     ]
    }
   ],
   "source": [
    "# seperating training data and testing data\n",
    "# for training we use the variables data, target\n",
    "\n",
    "from sklearn.utils import shuffle\n",
    "import math\n",
    "\n",
    "SPLIT = 70 # means: out of 100, 70 will go to training and 30 will go to testing\n",
    "\n",
    "data, target = shuffle(np.array(data), np.array(target))\n",
    "\n",
    "splitPoint = math.ceil( len(data)*SPLIT / 100.0 )\n",
    "testingData = data[splitPoint:]\n",
    "testingTarget = target[splitPoint:]\n",
    "data = data[:splitPoint]\n",
    "target = target[:splitPoint]\n",
    "\n",
    "print(\"Training Data Size: \", len(data),\"Testing Data Size: \", len(testingData))\n",
    "# print(testingData, testingTarget)"
   ]
  },
  {
   "cell_type": "code",
   "execution_count": 108,
   "metadata": {},
   "outputs": [
    {
     "name": "stdout",
     "output_type": "stream",
     "text": [
      "[['Sunny' 'Mild' 'High' 'TRUE']\n",
      " ['Rainy' 'Hot' 'High' 'FALSE']\n",
      " ['Sunny' 'Mild' 'High' 'FALSE']\n",
      " ['Sunny' 'Cool' 'Normal' 'FALSE']\n",
      " ['Rainy' 'Mild' 'Normal' 'TRUE']\n",
      " ['Sunny' 'Mild' 'Normal' 'FALSE']\n",
      " ['Rainy' 'Cool' 'Normal' 'FALSE']\n",
      " ['Overcast' 'Mild' 'High' 'TRUE']\n",
      " ['Overcast' 'Hot' 'High' 'FALSE']\n",
      " ['Overcast' 'Cool' 'Normal' 'TRUE']]\n",
      "[array(['Overcast', 'Rainy', 'Sunny'], dtype=object), array(['Cool', 'Hot', 'Mild'], dtype=object), array(['High', 'Normal'], dtype=object), array(['FALSE', 'TRUE'], dtype=object)]\n"
     ]
    }
   ],
   "source": [
    "#converting the data using the previously trained encoder\n",
    "oneHotData = dataEncoder.transform(data) #converting the data\n",
    "\n",
    "oneHotTarget = targetEncoder.transform(target)\n",
    "# print(encData.toarray())\n",
    "# print(enc.categories_)\n",
    "print(data)\n",
    "print(dataEncoder.categories_)"
   ]
  },
  {
   "cell_type": "code",
   "execution_count": 109,
   "metadata": {},
   "outputs": [
    {
     "name": "stdout",
     "output_type": "stream",
     "text": [
      "[0.07876385 0.14628808 0.10764177 0.01092431 0.09494475 0.07262046\n",
      " 0.18528169 0.17601367 0.06806056 0.05946085]\n"
     ]
    }
   ],
   "source": [
    "# random forest classifier\n",
    "\n",
    "from sklearn.ensemble import RandomForestClassifier\n",
    "\n",
    "# print(oneHotData.toarray())\n",
    "# print(data, target)\n",
    "\n",
    "RANDOMFOREST = RandomForestClassifier(n_estimators=100, max_depth=2,\n",
    "                              random_state=0)\n",
    "RANDOMFOREST.fit(oneHotData.toarray(), oneHotTarget.toarray())  \n",
    "\n",
    "print(RANDOMFOREST.feature_importances_)\n",
    "# print(RANDOMFOREST.predict([[0, 0, 0, 0]]))"
   ]
  },
  {
   "cell_type": "code",
   "execution_count": 110,
   "metadata": {},
   "outputs": [
    {
     "name": "stdout",
     "output_type": "stream",
     "text": [
      "Input:  [['Sunny', 'Hot', 'Normal', 'FALSE']]\n",
      "Prediction:  Yes\n"
     ]
    }
   ],
   "source": [
    "\n",
    "#today = (Sunny, Hot, Normal, False)\n",
    "trialData = [ ['Sunny', 'Hot', 'Normal', 'FALSE'] ]\n",
    "print(\"Input: \",trialData)\n",
    "trialData = dataEncoder.transform( trialData )  # transforming the given data in to our own one hot\n",
    "prediction = RANDOMFOREST.predict(trialData.toarray())\n",
    "predictionResult = targetEncoder.inverse_transform(prediction)\n",
    "print(\"Prediction: \", predictionResult[0][0])"
   ]
  },
  {
   "cell_type": "code",
   "execution_count": 111,
   "metadata": {},
   "outputs": [
    {
     "name": "stdout",
     "output_type": "stream",
     "text": [
      "Success rate: 50.0%\n"
     ]
    }
   ],
   "source": [
    "# ERROR CALCULATION\n",
    "\n",
    "correctAnswer = 0\n",
    "# print(testingData)\n",
    "testData = dataEncoder.transform( testingData )\n",
    "prediction = RANDOMFOREST.predict(testData.toarray())\n",
    "predictionResult = targetEncoder.inverse_transform(prediction)\n",
    "\n",
    "# print(\"Testing Data\")\n",
    "# print(testingData)\n",
    "# print(testingData, data)\n",
    "# print(testingTarget, predictionResult)\n",
    "\n",
    "for i,val in enumerate(predictionResult):\n",
    "    if(testingTarget[i] == predictionResult[i]):\n",
    "        correctAnswer +=1\n",
    "successRate = correctAnswer / len(testingTarget)\n",
    "print(\"Success rate: {}%\".format(successRate*100))"
   ]
  }
 ],
 "metadata": {
  "kernelspec": {
   "display_name": "Python 3",
   "language": "python",
   "name": "python3"
  },
  "language_info": {
   "codemirror_mode": {
    "name": "ipython",
    "version": 3
   },
   "file_extension": ".py",
   "mimetype": "text/x-python",
   "name": "python",
   "nbconvert_exporter": "python",
   "pygments_lexer": "ipython3",
   "version": "3.7.3"
  }
 },
 "nbformat": 4,
 "nbformat_minor": 2
}
