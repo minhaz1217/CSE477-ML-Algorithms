{
 "cells": [
  {
   "cell_type": "code",
   "execution_count": null,
   "metadata": {},
   "outputs": [],
   "source": [
    "# # today = (Sunny, Hot, Normal, False) -> output should be YES\n",
    "from sklearn import tree\n",
    "import csv\n",
    "import numpy as np\n",
    "\n",
    "\n",
    "data = np.array([])\n",
    "target = []\n",
    "featureName = []\n",
    "targetName = []"
   ]
  },
  {
   "cell_type": "code",
   "execution_count": null,
   "metadata": {},
   "outputs": [],
   "source": [
    "def readDataIntoNumpy( ):\n",
    "    global data, target, featureName, targetName\n",
    "    tx = []\n",
    "    ty = []\n",
    "    labels = []\n",
    "    columnName = []\n",
    "    fileName = \"soccer.csv\"\n",
    "    indexToIgnore = [0,3,4,6]  # ignoring the useless columns\n",
    "    with open(fileName,encoding=\"utf8\") as csv_file:\n",
    "        csv_reader = csv.reader(csv_file, delimiter=',')\n",
    "        for i, rows in enumerate(csv_reader):\n",
    "#             if(i>5000):\n",
    "#                 break #breaking early just for quick runs\n",
    "            tempData = []\n",
    "            for j,data in enumerate(rows):\n",
    "                if j not in indexToIgnore:\n",
    "                    tempData.append(data)\n",
    "            if i>0:\n",
    "                datas = tempData[:-1]\n",
    "                label = (tempData[-1:])\n",
    "                if(label not in labels):\n",
    "                    labels.append(tempData[ len(tempData)-1 ])\n",
    "                tx.append(datas)\n",
    "#                 ty.append( labels.index(label) )\n",
    "                ty.append(label)\n",
    "                # storage.append(tempData)\n",
    "            else:\n",
    "                columnName.extend(tempData)\n",
    "    data = tx\n",
    "#     data = np.array(tx)\n",
    "    target = ty\n",
    "#    target = np.array(ty)\n",
    "#     targetName = np.array(labels)\n",
    "    targetName = labels\n",
    "    featureName = columnName[:-1]\n",
    "#     featureName = np.array(columnName[:-1])\n",
    "    \n",
    "#print(allData)"
   ]
  },
  {
   "cell_type": "code",
   "execution_count": null,
   "metadata": {},
   "outputs": [],
   "source": [
    "readDataIntoNumpy()\n",
    "\n",
    "# print(\"Data In Order: \")\n",
    "# print(\"Target names: \")\n",
    "# print(targetName)\n",
    "# print(\"Features\")\n",
    "# print(featureName)\n",
    "# print(\"Data\")\n",
    "# print(data)\n",
    "# print(\"Targets\")\n",
    "# print(target)"
   ]
  },
  {
   "cell_type": "code",
   "execution_count": null,
   "metadata": {},
   "outputs": [],
   "source": [
    "from sklearn import preprocessing\n",
    "\n",
    "\n",
    "# changing categorical data to one hot\n",
    "enc = preprocessing.OneHotEncoder()\n",
    "enc.fit(data)\n",
    "encData = enc.transform(data)\n",
    "\n",
    "eTarget = preprocessing.OneHotEncoder()\n",
    "eTarget.fit(target)\n",
    "encTarget = eTarget.transform(target)\n",
    "# print(encData.toarray())\n",
    "# print(enc.categories_)\n",
    "# print(eTarget.categories_)\n",
    "onehotFeatureNames = []\n",
    "for i, val in enumerate(enc.categories_):\n",
    "#     print(featureName[i])\n",
    "    for j in val:\n",
    "        onehotFeatureNames.append(\"{}:{}\".format(featureName[i],j))\n",
    "print(onehotFeatureNames)"
   ]
  },
  {
   "cell_type": "code",
   "execution_count": null,
   "metadata": {},
   "outputs": [],
   "source": [
    "clf = tree.DecisionTreeClassifier()\n",
    "clf = clf.fit(encData.toarray(), encTarget.toarray())\n",
    "# tree.plot_tree(clf) \n",
    "# print(encData.toarray())\n",
    "# print(encTarget.toarray())\n",
    "\n",
    "import graphviz \n",
    "# dot_data = tree.export_graphviz(clf, out_file=None) \n",
    "# graph = graphviz.Source(dot_data) \n",
    "# graph.render(\"rainy\") \n",
    "\n",
    "\n",
    "dot_data = tree.export_graphviz(clf, out_file=None, \n",
    "            feature_names=onehotFeatureNames,  \n",
    "            class_names=targetName,  \n",
    "            filled=True, rounded=True,  \n",
    "            special_characters=True)  \n",
    "graph = graphviz.Source(dot_data) \n",
    "graph.render(\"soccerData\")\n",
    " \n",
    "# graph "
   ]
  },
  {
   "cell_type": "code",
   "execution_count": null,
   "metadata": {},
   "outputs": [],
   "source": [
    "\n",
    "#today = (Sunny, Hot, Normal, False)\n",
    "testData = [ ['Wales', 'Scotland', 'Friendly', 'Wales'] ]\n",
    "print(testData)\n",
    "testData = enc.transform( testData )\n",
    "prediction = clf.predict(testData.toarray())\n",
    "pred = eTarget.inverse_transform(prediction)\n",
    "print(pred[0][0])\n"
   ]
  }
 ],
 "metadata": {
  "kernelspec": {
   "display_name": "Python 3",
   "language": "python",
   "name": "python3"
  },
  "language_info": {
   "codemirror_mode": {
    "name": "ipython",
    "version": 3
   },
   "file_extension": ".py",
   "mimetype": "text/x-python",
   "name": "python",
   "nbconvert_exporter": "python",
   "pygments_lexer": "ipython3",
   "version": "3.7.3"
  }
 },
 "nbformat": 4,
 "nbformat_minor": 2
}
